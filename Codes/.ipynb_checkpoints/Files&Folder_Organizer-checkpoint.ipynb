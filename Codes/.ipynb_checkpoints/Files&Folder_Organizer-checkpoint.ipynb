{
 "cells": [
  {
   "cell_type": "markdown",
   "id": "e6191bfc",
   "metadata": {},
   "source": [
    "# Modificación de archivos para formato LFW."
   ]
  },
  {
   "cell_type": "markdown",
   "id": "1e7a2049",
   "metadata": {},
   "source": [
    "#### ArcFace utiliza imágenes de 112x112. Debo organizarlas en carpetas por clases dentro de la carpeta de dataset."
   ]
  },
  {
   "cell_type": "markdown",
   "id": "6b08e040",
   "metadata": {},
   "source": [
    "### Transformar carpetas con imágenes de X tamaño a 112x112 preservando nombre original"
   ]
  },
  {
   "cell_type": "code",
   "execution_count": 1,
   "id": "7db2fe7c",
   "metadata": {},
   "outputs": [],
   "source": [
    "def resizeMultiFolder(pathOr,pathDe,size):\n",
    "    clases = os.listdir(pathOr)\n",
    "    for clase in clases[:]:\n",
    "        claseDe = pathDe+clase\n",
    "        claseOr = pathOr+clase\n",
    "        if not os.path.exists(claseDe): os.mkdir(claseDe)\n",
    "        fotos = os.listdir(claseOr)\n",
    "        for foto in fotos:\n",
    "            fotoOr = claseOr+\"/\"+foto\n",
    "            fotoDe = claseDe+\"/\"+foto\n",
    "#             print(fotoDe)\n",
    "            img = Image.open(fotoOr)\n",
    "            imResize = img.resize((size,size), Image.ANTIALIAS) # resize\n",
    "            imResize.save(fotoDe, 'JPEG', quality=100)      # guardamos"
   ]
  },
  {
   "cell_type": "code",
   "execution_count": 2,
   "id": "e85ff50f",
   "metadata": {},
   "outputs": [],
   "source": [
    "from PIL import Image\n",
    "import os, sys\n",
    "size=112\n",
    "pathOrXsize  = \"PathOrigin/\"\n",
    "pathDe112    = \"PathDestiny/\"\n",
    "resizeMultiFolder(pathOr256,pathDe112,size)"
   ]
  },
  {
   "cell_type": "markdown",
   "id": "b1317f47",
   "metadata": {},
   "source": [
    "### Tiny Faces"
   ]
  },
  {
   "cell_type": "code",
   "execution_count": 53,
   "id": "b29e2ef6",
   "metadata": {},
   "outputs": [],
   "source": [
    "def resizeMultiFolderTinyTraining(pathOr,pathDe,size):\n",
    "    clases = os.listdir(pathOr)\n",
    "    for clase in clases:\n",
    "        nf=1\n",
    "        claseDe = pathDe+\"Tiny_N\"+clase\n",
    "        if not os.path.exists(claseDe): os.mkdir(claseDe)\n",
    "        fotos = os.listdir(pathOr+clase)\n",
    "        for foto in fotos:\n",
    "            fotoOr = pathOr+clase+\"/\"+foto\n",
    "            fotoDe = claseDe+\"/\"+\"Tiny_N\"+clase+\"_\"+f\"{nf:04d}\"+'.jpg'\n",
    "#             print(fotoOr)\n",
    "#             print(fotoDe)\n",
    "            if os.path.isfile(fotoOr):\n",
    "                img = Image.open(fotoOr)\n",
    "                imResize = img.resize((size,size), Image.LANCZOS) # resize\n",
    "                imResize.save(fotoDe, 'JPEG', quality=100)      # guardamos\n",
    "                nf+=1\n",
    "                \n",
    "def resizeMultiFolderTinyTesting(pathOr,pathDe,size):\n",
    "    fotos = os.listdir(pathOr)\n",
    "    for foto in fotos:\n",
    "#         print(foto)\n",
    "        nclase = foto[:foto.find('_')]\n",
    "#         print(nclase)\n",
    "        folderDe = pathDe+\"Tiny_N\"+nclase\n",
    "        fotoOr   = pathOr+foto\n",
    "        fotoDe   = folderDe+\"/\"+\"Tiny_N\"+foto\n",
    "#         print(fotoDe)\n",
    "#         break\n",
    "        if not os.path.exists(folderDe): os.mkdir(folderDe)\n",
    "        if os.path.isfile(fotoOr):\n",
    "            img = Image.open(fotoOr)\n",
    "            imResize = img.resize((size,size), Image.LANCZOS) # resize\n",
    "            imResize.save(fotoDe, 'JPEG', quality=100)      # guardamos"
   ]
  },
  {
   "cell_type": "code",
   "execution_count": 55,
   "id": "0178d883",
   "metadata": {},
   "outputs": [],
   "source": [
    "from PIL import Image\n",
    "import os, sys\n",
    "size=112\n",
    "\n",
    "pathOrTiny  = \"PathTinyFace/Origin/Training_Set/\"\n",
    "pathDeTiny  = \"PathTinyFace/Destiny/Training_Set/\"\n",
    "resizeMultiFolderTinyTraining(pathOrTiny,pathDeTiny,size)"
   ]
  },
  {
   "cell_type": "markdown",
   "id": "66c623ef",
   "metadata": {},
   "source": [
    "# Blurry\n",
    "https://www.tutorialspoint.com/python_pillow/python_pillow_blur_an_image.htm"
   ]
  },
  {
   "cell_type": "code",
   "execution_count": 6,
   "id": "dde1b8bd",
   "metadata": {},
   "outputs": [],
   "source": [
    "from PIL import Image, ImageFilter\n",
    "import os, sys\n",
    "\n",
    "def LFW_Blurryer(path):\n",
    "    \n",
    "    pathBl = path+\"-Bl/\"\n",
    "    dirs = os.listdir(path)\n",
    "    \n",
    "    for clase in dirs:\n",
    "        f_bl = pathBl+clase\n",
    "#         print(f_bl)\n",
    "        if not os.path.exists(f_bl): os.mkdir(f_bl)      # Creamos carpetas\n",
    "        \n",
    "        fotos = os.listdir(path+\"/\"+clase)\n",
    "        for foto in fotos:\n",
    "            fotoP = path+\"/\"+clase+\"/\"+foto\n",
    "            if os.path.isfile(fotoP):\n",
    "                im = Image.open(fotoP)\n",
    "                blurImage = im.filter(ImageFilter.BLUR)\n",
    "                blurImage.save(f_bl+\"/b\"+foto)"
   ]
  },
  {
   "cell_type": "markdown",
   "id": "d3ad3c9f",
   "metadata": {},
   "source": [
    "# Downgrade quality"
   ]
  },
  {
   "cell_type": "code",
   "execution_count": 1,
   "id": "76e6ffba",
   "metadata": {},
   "outputs": [],
   "source": [
    "from PIL import Image, ImageFilter\n",
    "import os, sys\n",
    "\n",
    "def LFW_Downg(pathOr,pathDe,Quality):\n",
    "    \n",
    "    clases = os.listdir(pathOr)\n",
    "    \n",
    "    for clase in clases:\n",
    "        claseDg = pathDe+clase\n",
    "#         print(claseDg)\n",
    "        if not os.path.exists(claseDg): os.mkdir(claseDg)\n",
    "        fotos = os.listdir(pathOr+clase)\n",
    "        for foto in fotos:\n",
    "            fotoDg = claseDg+\"/\"+foto\n",
    "            fotoOr = pathOr+clase+\"/\"+foto\n",
    "#             print(fotoDg)\n",
    "            img = Image.open(fotoOr)\n",
    "            img = img.resize((112,112), Image.ANTIALIAS) # resize\n",
    "            img.save(fotoDg,quality=Quality)"
   ]
  },
  {
   "cell_type": "code",
   "execution_count": 1,
   "id": "4ae8ebb5",
   "metadata": {},
   "outputs": [],
   "source": [
    "pathOr  = \"PathOrigin/\"\n",
    "pathDe  = \"PathDestiny/QualityX\"\n",
    "\n",
    "LFW_Downg(pathOr,pathDe,Quality=X) # Quality between [0,95]."
   ]
  },
  {
   "cell_type": "markdown",
   "id": "f0b23bf6",
   "metadata": {},
   "source": [
    "# Reorganización carpetas Prieto"
   ]
  },
  {
   "cell_type": "code",
   "execution_count": 42,
   "id": "092bc40f",
   "metadata": {},
   "outputs": [
    {
     "name": "stdout",
     "output_type": "stream",
     "text": [
      "8613\n"
     ]
    }
   ],
   "source": [
    "import os\n",
    "from PIL import Image\n",
    "\n",
    "def resizePrieto(pathOr,pathDe,tipo):\n",
    "    fotos = os.listdir(pathOr)\n",
    "    nf = 1\n",
    "    nc = 1\n",
    "    start = True\n",
    "    for foto in fotos:\n",
    "        nclase  = foto[:-12]\n",
    "        if not start:\n",
    "            if nclase != nclase_pre: \n",
    "                nf = 1\n",
    "                nc +=1\n",
    "#         img = Image.open(pathOrPrieto+foto)\n",
    "#         print(foto)\n",
    "        carpeta = pathDePrieto+tipo+\"_\"+nclase+\"/\"\n",
    "        if not os.path.exists(carpeta): os.mkdir(carpeta)\n",
    "#         print(carpeta)\n",
    "        fotoDe = carpeta+tipo+\"_\"+nclase+\"_\"+f\"{nf:04d}\"+'.jpg'\n",
    "        img.save(fotoDe, 'JPEG', quality=100)      # guardamos\n",
    "        nf+=1\n",
    "        nclase_pre = nclase\n",
    "        start = False\n",
    "    print(nc)"
   ]
  },
  {
   "cell_type": "code",
   "execution_count": null,
   "id": "75118e74",
   "metadata": {},
   "outputs": [],
   "source": [
    "pathOrPrieto  = \"Prieto/gen_Bicubic_28x28/\"\n",
    "pathDePrieto  = \"Prieto/Loreto_Test_B28/\"\n",
    "\n",
    "tipo = \"Bicubic28\"\n",
    "\n",
    "resizePrieto(pathOrPrieto,pathDePrieto,tipo)"
   ]
  },
  {
   "cell_type": "markdown",
   "id": "35f01d04",
   "metadata": {},
   "source": [
    "# Revisar qué carpeta no contiene la misma cantidad de archivos que el original"
   ]
  },
  {
   "cell_type": "code",
   "execution_count": 2,
   "id": "4e9d4c5f",
   "metadata": {},
   "outputs": [],
   "source": [
    "import os\n",
    "def FolderCounter(pathA,pathB):\n",
    "    clases = sorted(os.listdir(pathA))\n",
    "    for clase in clases[:]:\n",
    "#         print(pathA+clase)\n",
    "        pathC = pathB+clase\n",
    "        if len(os.listdir(pathC)) != len(os.listdir(pathA+clase)):\n",
    "            print(pathC)"
   ]
  },
  {
   "cell_type": "code",
   "execution_count": null,
   "id": "500a2c05",
   "metadata": {},
   "outputs": [],
   "source": [
    "pathA  = \".../PathA/\"\n",
    "pathB  = \".../PathB/\"\n",
    "\n",
    "\n",
    "FolderCounter(pathOr,pathDe)"
   ]
  }
 ],
 "metadata": {
  "kernelspec": {
   "display_name": "Python 3",
   "language": "python",
   "name": "python3"
  },
  "language_info": {
   "codemirror_mode": {
    "name": "ipython",
    "version": 3
   },
   "file_extension": ".py",
   "mimetype": "text/x-python",
   "name": "python",
   "nbconvert_exporter": "python",
   "pygments_lexer": "ipython3",
   "version": "3.9.4"
  }
 },
 "nbformat": 4,
 "nbformat_minor": 5
}
