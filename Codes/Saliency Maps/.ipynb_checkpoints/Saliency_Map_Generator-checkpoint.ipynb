{
 "cells": [
  {
   "cell_type": "markdown",
   "id": "f789d10c",
   "metadata": {},
   "source": [
    "# Initial setup"
   ]
  },
  {
   "cell_type": "code",
   "execution_count": 4,
   "id": "d8eb2fcd",
   "metadata": {},
   "outputs": [
    {
     "name": "stdout",
     "output_type": "stream",
     "text": [
      "Fri Sep 23 22:47:26 2022       \r\n",
      "+-----------------------------------------------------------------------------+\r\n",
      "| NVIDIA-SMI 515.65.01    Driver Version: 515.65.01    CUDA Version: 11.7     |\r\n",
      "|-------------------------------+----------------------+----------------------+\r\n",
      "| GPU  Name        Persistence-M| Bus-Id        Disp.A | Volatile Uncorr. ECC |\r\n",
      "| Fan  Temp  Perf  Pwr:Usage/Cap|         Memory-Usage | GPU-Util  Compute M. |\r\n",
      "|                               |                      |               MIG M. |\r\n",
      "|===============================+======================+======================|\r\n",
      "|   0  NVIDIA GeForce ...  Off  | 00000000:17:00.0 Off |                  N/A |\r\n",
      "| 66%   66C    P0    68W / 260W |      0MiB / 11264MiB |      0%      Default |\r\n",
      "|                               |                      |                  N/A |\r\n",
      "+-------------------------------+----------------------+----------------------+\r\n",
      "|   1  NVIDIA GeForce ...  Off  | 00000000:18:00.0 Off |                  N/A |\r\n",
      "| 70%   68C    P0    63W / 260W |      0MiB / 11264MiB |      1%      Default |\r\n",
      "|                               |                      |                  N/A |\r\n",
      "+-------------------------------+----------------------+----------------------+\r\n",
      "|   2  NVIDIA GeForce ...  Off  | 00000000:65:00.0 Off |                  N/A |\r\n",
      "| 63%   64C    P0    76W / 260W |      0MiB / 11264MiB |      0%      Default |\r\n",
      "|                               |                      |                  N/A |\r\n",
      "+-------------------------------+----------------------+----------------------+\r\n",
      "|   3  NVIDIA GeForce ...  Off  | 00000000:B4:00.0 Off |                  N/A |\r\n",
      "|  0%   54C    P0   115W / 420W |      0MiB / 24576MiB |      0%      Default |\r\n",
      "|                               |                      |                  N/A |\r\n",
      "+-------------------------------+----------------------+----------------------+\r\n",
      "                                                                               \r\n",
      "+-----------------------------------------------------------------------------+\r\n",
      "| Processes:                                                                  |\r\n",
      "|  GPU   GI   CI        PID   Type   Process name                  GPU Memory |\r\n",
      "|        ID   ID                                                   Usage      |\r\n",
      "|=============================================================================|\r\n",
      "|  No running processes found                                                 |\r\n",
      "+-----------------------------------------------------------------------------+\r\n"
     ]
    }
   ],
   "source": [
    "!nvidia-smi"
   ]
  },
  {
   "cell_type": "code",
   "execution_count": 7,
   "id": "f707f664",
   "metadata": {},
   "outputs": [
    {
     "name": "stdout",
     "output_type": "stream",
     "text": [
      "INFO:tensorflow:Enabling eager execution\n",
      "INFO:tensorflow:Enabling v2 tensorshape\n",
      "INFO:tensorflow:Enabling resource variables\n",
      "INFO:tensorflow:Enabling tensor equality\n",
      "INFO:tensorflow:Enabling control flow v2\n",
      "face_utils module has been loaded\n"
     ]
    }
   ],
   "source": [
    "import sys\n",
    "if 'face_utils' in sys.modules:  \n",
    "    del sys.modules[\"face_utils\"]\n",
    "    print('face_utils module has been deleted')\n",
    "from face_utils import *\n",
    "print('face_utils module has been loaded')"
   ]
  },
  {
   "cell_type": "markdown",
   "id": "f0038efa",
   "metadata": {},
   "source": [
    "# Path to datasets:"
   ]
  },
  {
   "cell_type": "code",
   "execution_count": 3,
   "id": "61c9a8c9",
   "metadata": {},
   "outputs": [],
   "source": [
    "pathOr     = r'./Dataset/Origin/'\n",
    "pathDe     = r'./Dataset/Destination/'"
   ]
  },
  {
   "cell_type": "markdown",
   "id": "69c91819",
   "metadata": {},
   "source": [
    "# Computation of Saliency Maps"
   ]
  },
  {
   "cell_type": "code",
   "execution_count": 4,
   "id": "e249698f",
   "metadata": {},
   "outputs": [],
   "source": [
    "def get_saliencyFast(pathSave,foto,img_A):\n",
    "    \n",
    "    img_B = img_A\n",
    "    \n",
    "    nh        = 350                # ancho de la mascara Gaussiana\n",
    "    d         = 40                 # resolución (elimina mascaras de la cara en una grilla de d x d pixeles)\n",
    "    A         = read_img(img_A)\n",
    "    Bo        = read_img(img_B)\n",
    "    \n",
    "    H0m,H1m   = saliency_minusFast(A,Bo,nh=nh,d=d,n=1,nmod=2,th=0.05)\n",
    "\n",
    "    D1,Y1     = show_heatmap(Bo,H0m,nh)\n",
    "    D2,Y2     = show_heatmap(Bo,H1m,nh)\n",
    "\n",
    "    X         = (D1+D2)/2    # <= HeatMap entre 0 y 1\n",
    "\n",
    "    Dt,Yt     = show_heatmap(Bo,X,199)\n",
    "    Dt        = X*255\n",
    "    \n",
    "#     Save\n",
    "    cv2.imwrite(pathSave+\"/\"+foto[:-4]+'.jpg',Dt)\n",
    "#     cv2.imwrite(pathSave+\"/\"+foto[:-4]+'_YtF'+'.jpg',Yt) "
   ]
  },
  {
   "cell_type": "code",
   "execution_count": 4,
   "id": "203178f5",
   "metadata": {},
   "outputs": [],
   "source": [
    "import shutil\n",
    "\n",
    "def HeatMapMultiFolder(pathA,pathB):\n",
    "    clases = sorted(os.listdir(pathA))\n",
    "    for clase in clases[:]:\n",
    "        print(clase)\n",
    "        pathC = pathB+clase\n",
    "        print(pathC)\n",
    "        if not os.path.exists(pathC): os.mkdir(pathC) # Creamos la carpeta para cada Clase (individuo).\n",
    "        fotos = sorted(os.listdir(pathA+clase))\n",
    "        for fotoName in fotos[:]:\n",
    "            fotoDir = pathA+clase+\"/\"+fotoName\n",
    "            if fotoName == \".ipynb_checkpoints\":\n",
    "                shutil.rmtree(fotoDir)\n",
    "            else:\n",
    "                get_saliencyFast(pathC,fotoName,fotoDir)\n",
    "    \n",
    "HeatMapMultiFolder(pathOr,pathDe)"
   ]
  },
  {
   "cell_type": "markdown",
   "id": "49b6ebea",
   "metadata": {},
   "source": [
    "# Revisar cantidad de carpetas listas. Puede sobrar una que es el checkpoint de Python."
   ]
  },
  {
   "cell_type": "code",
   "execution_count": 3,
   "id": "75bd2481",
   "metadata": {},
   "outputs": [],
   "source": [
    "import os\n",
    "\n",
    "APP_FOLDER = pathDe\n",
    "\n",
    "totalFiles = 0\n",
    "totalDir = 0\n",
    "\n",
    "for base, dirs, files in os.walk(APP_FOLDER):\n",
    "    for directories in dirs:\n",
    "        totalDir += 1\n",
    "    for Files in files:\n",
    "        totalFiles += 1\n",
    "\n",
    "print('Total Number of directories',totalDir)"
   ]
  },
  {
   "cell_type": "markdown",
   "id": "1f7c6ad8",
   "metadata": {},
   "source": [
    "# Revisar qué carpeta falta."
   ]
  },
  {
   "cell_type": "code",
   "execution_count": 5,
   "id": "58de928d",
   "metadata": {},
   "outputs": [],
   "source": [
    "def HeatMapMultiFolder(pathA,pathB):\n",
    "    clases = sorted(os.listdir(pathA))\n",
    "    for clase in clases[:]:\n",
    "#         print(pathA+clase)\n",
    "        pathC = pathB+clase\n",
    "        if len(os.listdir(pathC)) != len(os.listdir(pathA+clase)):\n",
    "            print(pathC)\n",
    "\n",
    "HeatMapMultiFolder(pathOr,pathDe)"
   ]
  },
  {
   "cell_type": "markdown",
   "id": "60262a1c",
   "metadata": {},
   "source": [
    "# Para contar carpetas vacías"
   ]
  },
  {
   "cell_type": "code",
   "execution_count": 6,
   "id": "9dec216b",
   "metadata": {},
   "outputs": [],
   "source": [
    "n = 0\n",
    "clases = os.listdir(APP_FOLDER)\n",
    "for clase in clases:\n",
    "    dir = APP_FOLDER+clase+\"/\"\n",
    "    print(dir)\n",
    "    break\n",
    "    if len(os.listdir(dir)) == 0:\n",
    "        print(\"Directory is empty\")\n",
    "        print(dir)\n",
    "        n+=1\n",
    "print(n)"
   ]
  }
 ],
 "metadata": {
  "kernelspec": {
   "display_name": "Python 3",
   "language": "python",
   "name": "python3"
  },
  "language_info": {
   "codemirror_mode": {
    "name": "ipython",
    "version": 3
   },
   "file_extension": ".py",
   "mimetype": "text/x-python",
   "name": "python",
   "nbconvert_exporter": "python",
   "pygments_lexer": "ipython3",
   "version": "3.9.4"
  }
 },
 "nbformat": 4,
 "nbformat_minor": 5
}
