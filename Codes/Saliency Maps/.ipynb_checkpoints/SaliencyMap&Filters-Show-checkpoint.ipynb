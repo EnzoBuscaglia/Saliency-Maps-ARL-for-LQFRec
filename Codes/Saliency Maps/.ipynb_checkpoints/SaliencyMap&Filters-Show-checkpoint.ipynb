{
 "cells": [
  {
   "cell_type": "code",
   "execution_count": 10,
   "id": "02c6035f",
   "metadata": {},
   "outputs": [],
   "source": [
    "import os\n",
    "import cv2\n",
    "from tifffile import imsave\n",
    "import matplotlib.image as mpimg\n",
    "\n",
    "\n",
    "pathOr  = r'C:/Dataset/DataTest/'\n",
    "pathHM  = r'C:/Dataset/DataTest_HM/'\n",
    "pathDe  = r'C:/Dataset/DataTest_Filtered/'"
   ]
  },
  {
   "cell_type": "markdown",
   "id": "852cb981",
   "metadata": {},
   "source": [
    "## 2. Máscaras"
   ]
  },
  {
   "cell_type": "markdown",
   "id": "d3ff1095",
   "metadata": {},
   "source": [
    "### 2.1. Arquitectura Arcface estándar (RGB):"
   ]
  },
  {
   "cell_type": "markdown",
   "id": "4fb44381",
   "metadata": {},
   "source": [
    "#### Sin máscara, multiplicar (producto punto) cada canal RGB por HM"
   ]
  },
  {
   "cell_type": "code",
   "execution_count": 2,
   "id": "7bd2c994",
   "metadata": {},
   "outputs": [],
   "source": [
    "def RGB_no_mask(ImgDe,HM,ImgOr):\n",
    "    \n",
    "    HM = cv2.imread(HM, cv2.IMREAD_GRAYSCALE)\n",
    "\n",
    "    HM = HM/255\n",
    "    HM  = cv2.resize(HM, (112,112), interpolation = cv2.INTER_AREA)\n",
    "    ImgOr = cv2.imread(ImgOr)\n",
    "    \n",
    "    # Separate, weight, merge:\n",
    "    (Blue, Green, Red) = cv2.split(ImgOr)\n",
    "    Blue  = Blue*HM\n",
    "    Green = Green*HM\n",
    "    Red   = Red*HM\n",
    "    merged = cv2.merge([Blue, Green, Red])\n",
    "    cv2.imwrite(ImgDe,merged)"
   ]
  },
  {
   "cell_type": "markdown",
   "id": "0b371156",
   "metadata": {},
   "source": [
    "#### Máscara \"ReLU-like\" sobre HM, llevando todo a cero bajo cierto umbral (t_r) y sumarle (M) a lo que esté por sobre el umbral, luego  multiplicar (producto punto) cada canal RGB por el resultado."
   ]
  },
  {
   "cell_type": "code",
   "execution_count": 23,
   "id": "b9021223",
   "metadata": {},
   "outputs": [],
   "source": [
    "def RGB_ReLU(ImgDe,HM,Img,tr=60,M=40):\n",
    "    \n",
    "    HM = cv2.imread(HM, cv2.IMREAD_GRAYSCALE)\n",
    "    HM[HM > 255-M] = 255-M\n",
    "    HM +=M\n",
    "    HM[HM <= tr+M] = 0\n",
    "    \n",
    "    HM = HM/255\n",
    "    HM  = cv2.resize(HM, (112,112), interpolation = cv2.INTER_AREA)\n",
    "    Img = cv2.imread(Img)\n",
    "    \n",
    "    # Separate, weight, merge:\n",
    "    (Blue, Green, Red) = cv2.split(Img)\n",
    "    Blue  = Blue*HM\n",
    "    Green = Green*HM\n",
    "    Red   = Red*HM\n",
    "    merged = cv2.merge([Blue, Green, Red])\n",
    "    cv2.imwrite(ImgDe,merged)"
   ]
  },
  {
   "cell_type": "markdown",
   "id": "3c533b19",
   "metadata": {},
   "source": [
    "#### Máscara binaria sobre HM, llevando todo a cero bajo cierto umbral (t_s) y el resto a 255, luego multiplicar (producto punto) cada canal RGB por el resultado."
   ]
  },
  {
   "cell_type": "code",
   "execution_count": 7,
   "id": "d9dd4308",
   "metadata": {},
   "outputs": [],
   "source": [
    "def RGB_Binarize(ImgDe,HM,Img,ts=40):\n",
    "    \n",
    "    HM = cv2.imread(HM, cv2.IMREAD_GRAYSCALE)\n",
    "    HM[HM > ts] = 255\n",
    "    HM[HM <= ts] = 0\n",
    "    \n",
    "    HM = HM/255\n",
    "    HM  = cv2.resize(HM, (112,112), interpolation = cv2.INTER_AREA)\n",
    "    Img = cv2.imread(Img)\n",
    "    \n",
    "    # Separate, weight, merge:\n",
    "    (Blue, Green, Red) = cv2.split(Img)\n",
    "    Blue  = Blue*HM\n",
    "    Green = Green*HM\n",
    "    Red   = Red*HM\n",
    "    merged = cv2.merge([Blue, Green, Red])\n",
    "    cv2.imwrite(ImgDe,merged)"
   ]
  },
  {
   "cell_type": "markdown",
   "id": "ce2fd153",
   "metadata": {},
   "source": [
    "#### Sin máscara, reemplazar un canal por HM. Elegimos el canal rojo."
   ]
  },
  {
   "cell_type": "code",
   "execution_count": 16,
   "id": "55db7c25",
   "metadata": {},
   "outputs": [],
   "source": [
    "def HM_RGB_no_mask(ImgDe,HM,Img):\n",
    "    \n",
    "    HM = cv2.imread(HM, cv2.IMREAD_GRAYSCALE)\n",
    "    HM  = cv2.resize(HM, (112,112), interpolation = cv2.INTER_AREA)\n",
    "    Img = cv2.imread(Img)\n",
    "    \n",
    "    # Separate, weight, merge:\n",
    "    (Blue, Green, Red) = cv2.split(Img)\n",
    "    Red = HM\n",
    "    merged = cv2.merge([Blue, Green, Red])\n",
    "    cv2.imwrite(ImgDe,merged)"
   ]
  },
  {
   "cell_type": "markdown",
   "id": "150f7ba8",
   "metadata": {},
   "source": [
    "#### Máscara binaria sobre HM, y luego reemplazar un canal por el resultado. Elegimos el canal rojo."
   ]
  },
  {
   "cell_type": "code",
   "execution_count": 2,
   "id": "67045ff0",
   "metadata": {},
   "outputs": [],
   "source": [
    "def HM_RGB_Binarize(ImgDe,HM,Img,ts=40):\n",
    "    \n",
    "    HM = cv2.imread(HM, cv2.IMREAD_GRAYSCALE)\n",
    "    HM  = cv2.resize(HM, (112,112), interpolation = cv2.INTER_AREA)\n",
    "\n",
    "    HM[HM > ts] = 255\n",
    "    HM[HM <= ts] = 0\n",
    "    \n",
    "    Img = cv2.imread(Img)\n",
    "    \n",
    "    # Separate, weight, merge:\n",
    "    (Blue, Green, Red) = cv2.split(Img)\n",
    "    Red   = HM\n",
    "    merged = cv2.merge([Blue, Green, Red])\n",
    "    cv2.imwrite(ImgDe,merged)"
   ]
  },
  {
   "cell_type": "markdown",
   "id": "d98d6e4d",
   "metadata": {},
   "source": [
    "### 2.2. Arquitecturas con Arcface4 (RGBA):"
   ]
  },
  {
   "cell_type": "markdown",
   "id": "2191daa2",
   "metadata": {},
   "source": [
    "#### Sin máscara sobre el HM, agregándolo como cuarto canal."
   ]
  },
  {
   "cell_type": "code",
   "execution_count": null,
   "id": "8504a95f",
   "metadata": {},
   "outputs": [],
   "source": [
    "https://stackoverflow.com/questions/38855022/conversion-from-cmyk-to-rgb-with-pillow-is-different-from-that-of-photoshop\n",
    "https://stackoverflow.com/questions/48911162/python-tifffile-imsave-to-save-3-images-as-16bit-image-stack\n",
    "https://stackoverflow.com/questions/32290096/python-opencv-add-alpha-channel-to-rgb-image"
   ]
  },
  {
   "cell_type": "code",
   "execution_count": 1,
   "id": "2c728b99",
   "metadata": {},
   "outputs": [],
   "source": [
    "def RGBA_no_mask(ImgDe,HM,Img):\n",
    "    \n",
    "    HM = cv2.imread(HM, cv2.IMREAD_GRAYSCALE)\n",
    "    HM  = cv2.resize(HM, (112,112), interpolation = cv2.INTER_AREA) # My code for HM generator creates 256x256 images.\n",
    "    Img = cv2.imread(Img)\n",
    "    \n",
    "    # First create the image with alpha channel\n",
    "    rgba = cv2.cvtColor(Img, cv2.COLOR_RGB2RGBA)\n",
    "    \n",
    "    # # Then assign the mask to the last channel of the image\n",
    "    rgba[: ,: , 3] = HM\n",
    "    cv2.imwrite(ImgDe, rgba)\n",
    "#     imsave(ImgDe, rgba)"
   ]
  },
  {
   "cell_type": "markdown",
   "id": "573dd955",
   "metadata": {},
   "source": [
    "#### Máscara binaria sobre HM, agregar el resultado como un cuarto canal."
   ]
  },
  {
   "cell_type": "code",
   "execution_count": 1,
   "id": "d68c0463",
   "metadata": {},
   "outputs": [],
   "source": [
    "def RGBA_Binarize(ImgDe,HM,Img,ts=40):\n",
    "    \n",
    "    HM = cv2.imread(HM, cv2.IMREAD_GRAYSCALE)\n",
    "    HM  = cv2.resize(HM, (112,112), interpolation = cv2.INTER_AREA) # My code for HM generator creates 256x256 images.\n",
    "    \n",
    "    HM[HM > ts] = 255\n",
    "    HM[HM <= ts] = 0\n",
    "    \n",
    "    Img = cv2.imread(Img)\n",
    "    \n",
    "    # First create the image with alpha channel\n",
    "    rgba = cv2.cvtColor(Img, cv2.COLOR_RGB2RGBA)\n",
    "    \n",
    "    # # Then assign the mask to the last channel of the image\n",
    "    rgba[: ,: , 3] = HM\n",
    "    cv2.imwrite(ImgDe, rgba)\n",
    "#     imsave(ImgDe, rgba)"
   ]
  },
  {
   "cell_type": "markdown",
   "id": "aec992bf",
   "metadata": {},
   "source": [
    "#### Sin máscara sobre el HM, multiplicar (producto punto) cada canal RGB por el HM, además agregar HM como cuarto canal"
   ]
  },
  {
   "cell_type": "code",
   "execution_count": null,
   "id": "50341322",
   "metadata": {},
   "outputs": [],
   "source": [
    "def RGBA_mult_no_mask(ImgDe,HM,ImgOr):\n",
    "    \n",
    "    HMo = cv2.imread(HM, cv2.IMREAD_GRAYSCALE)\n",
    "    HMo  = cv2.resize(HMo, (112,112), interpolation = cv2.INTER_AREA)\n",
    "\n",
    "    HM = HMo/255\n",
    "    ImgOr = cv2.imread(ImgOr)\n",
    "    \n",
    "    # Separate, weight, merge:\n",
    "    (Blue, Green, Red) = cv2.split(ImgOr)\n",
    "    Blue  = Blue*HM\n",
    "    Green = Green*HM\n",
    "    Red   = Red*HM\n",
    "    merged = cv2.merge([Blue, Green, Red])\n",
    "\n",
    "    rgba   = cv2.cvtColor(ImgOr, cv2.COLOR_RGB2RGBA)\n",
    "    rgba[: ,: , 0] = Blue\n",
    "    rgba[: ,: , 1] = Green\n",
    "    rgba[: ,: , 2] = Red\n",
    "    rgba[: ,: , 3] = HMo\n",
    "    cv2.imwrite(ImgDe,rgba)"
   ]
  },
  {
   "cell_type": "markdown",
   "id": "bf250d35",
   "metadata": {},
   "source": [
    "#### Máscara binaria sobre el HM, multiplicar (producto punto) cada canal RGB por el resultado, además agregar el resultado como un cuarto canal"
   ]
  },
  {
   "cell_type": "code",
   "execution_count": null,
   "id": "2699603c",
   "metadata": {},
   "outputs": [],
   "source": [
    "def RGBA_mult_Binarize(ImgDe,HM,ImgOr,ts=40):\n",
    "    \n",
    "    HMo = cv2.imread(HM, cv2.IMREAD_GRAYSCALE)\n",
    "    HMo  = cv2.resize(HMo, (112,112), interpolation = cv2.INTER_AREA)\n",
    "    \n",
    "    HMo[HMo > ts] = 255\n",
    "    HMo[HMo <= ts] = 0\n",
    "    \n",
    "    HM = HMo/255\n",
    "    ImgOr = cv2.imread(ImgOr)\n",
    "    \n",
    "    # Separate, weight, merge:\n",
    "    (Blue, Green, Red) = cv2.split(ImgOr)\n",
    "    Blue  = Blue*HM\n",
    "    Green = Green*HM\n",
    "    Red   = Red*HM\n",
    "    merged = cv2.merge([Blue, Green, Red])\n",
    "\n",
    "    rgba   = cv2.cvtColor(ImgOr, cv2.COLOR_RGB2RGBA)\n",
    "    rgba[: ,: , 0] = Blue\n",
    "    rgba[: ,: , 1] = Green\n",
    "    rgba[: ,: , 2] = Red\n",
    "    rgba[: ,: , 3] = HMo\n",
    "    cv2.imwrite(ImgDe,rgba)"
   ]
  },
  {
   "cell_type": "markdown",
   "id": "a7d78456",
   "metadata": {},
   "source": [
    "# 3. Ejecución: generamos la base de datos dependiendo del filtro"
   ]
  },
  {
   "cell_type": "code",
   "execution_count": 11,
   "id": "00c1ade5",
   "metadata": {},
   "outputs": [],
   "source": [
    "def HeatMapMultiFolder(pathHeatMap,pathOrigin,pathDestiny):\n",
    "    clases = os.listdir(pathHeatMap)\n",
    "    for clase in clases[:]:\n",
    "        clasesHM = pathHeatMap+clase\n",
    "#         print(clasesHM)\n",
    "        clasesOr = pathOrigin+clase\n",
    "#         print(clasesOr)\n",
    "        clasesDe = pathDestiny+clase\n",
    "#         print(clasesDe)\n",
    "        if not os.path.exists(clasesDe): os.mkdir(clasesDe)\n",
    "        fotosOr = os.listdir(clasesHM)\n",
    "        for foto in fotosOr:\n",
    "            fotoHM = clasesHM+\"/\"+foto\n",
    "            fotoOr = clasesOr+\"/\"+foto\n",
    "#             print(fotoOr)\n",
    "            \n",
    "            ### ELERGIR SEGÚN SE USE Alpha CHANNEL O NO ###\n",
    "            \n",
    "            fotoDe = clasesDe+\"/\"+foto                # Ocupar para máscaras sin Alpha Channel.\n",
    "#             fotoDe = clasesDe+\"/\"+foto[:-4]+\".png\"  # Ocupar para máscaras con Alpha Channel.\n",
    "\n",
    "              #### ELEGIR FILTRO ###\n",
    "    \n",
    "#             RGB_no_mask(fotoDe,fotoHM,fotoOr)\n",
    "#             RGB_ReLU(fotoDe,fotoHM,fotoOr,tr=60, M=40)\n",
    "#             RGB_Binarize(fotoDe,fotoHM,fotoOr,ts=40)\n",
    "\n",
    "#             HM_RGB_no_mask(fotoDe,fotoHM,fotoOr)\n",
    "#             HM_RGB_Binarize(fotoDe,fotoHM,fotoOr,ts=40)\n",
    "\n",
    "#             RGBA_no_mask(fotoDe,fotoHM,fotoOr)\n",
    "#             RGBA_Binarize(fotoDe,fotoHM,fotoOr, ts=40)\n",
    "\n",
    "#             RGBA_mult_no_mask(fotoDe,fotoHM,fotoOr)\n",
    "#             RGBA_mult_Bianrize(fotoDe,fotoHM,fotoOr)\n",
    "\n",
    "\n",
    "HeatMapMultiFolder(pathHM,pathOr,pathDe)"
   ]
  }
 ],
 "metadata": {
  "kernelspec": {
   "display_name": "Python 3",
   "language": "python",
   "name": "python3"
  },
  "language_info": {
   "codemirror_mode": {
    "name": "ipython",
    "version": 3
   },
   "file_extension": ".py",
   "mimetype": "text/x-python",
   "name": "python",
   "nbconvert_exporter": "python",
   "pygments_lexer": "ipython3",
   "version": "3.9.4"
  }
 },
 "nbformat": 4,
 "nbformat_minor": 5
}
